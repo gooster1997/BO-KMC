{
 "cells": [
  {
   "cell_type": "markdown",
   "id": "3d7dbcf2-d019-4de2-9b42-578a6d34b8b3",
   "metadata": {},
   "source": [
    "# Exploration of FRP parameter space using BO and KMC"
   ]
  },
  {
   "cell_type": "code",
   "execution_count": 1,
   "id": "68e4c50e-fb87-4e60-bff6-82f299a948d4",
   "metadata": {},
   "outputs": [],
   "source": [
    "import torch\n",
    "from KMC import KMC\n",
    "import numpy as np\n",
    "import pandas as pd\n",
    "from botorch.models import SingleTaskGP, ModelListGP\n",
    "from gpytorch.mlls.sum_marginal_log_likelihood import SumMarginalLogLikelihood\n",
    "from botorch.acquisition.objective import ConstrainedMCObjective\n",
    "from botorch.optim import optimize_acqf\n",
    "from botorch import fit_gpytorch_model\n",
    "from botorch.acquisition.monte_carlo import qNoisyExpectedImprovement\n",
    "from botorch.sampling.samplers import SobolQMCNormalSampler\n",
    "from botorch.utils.sampling import draw_sobol_samples\n",
    "from botorch.models.transforms.outcome import Standardize\n",
    "from botorch.utils.transforms import normalize, unnormalize\n",
    "\n",
    "device = torch.device('cuda' if torch.cuda.is_available() else 'cpu')\n",
    "dtype = torch.double"
   ]
  },
  {
   "cell_type": "markdown",
   "id": "1aa072f4-7e18-4b5d-a132-8981d98d03ee",
   "metadata": {
    "tags": []
   },
   "source": [
    "## functions used to call KMC simulation"
   ]
  },
  {
   "cell_type": "code",
   "execution_count": 2,
   "id": "b95c7757-d8a3-412d-b6a4-922899e49e5f",
   "metadata": {},
   "outputs": [],
   "source": [
    "def evaluate(x):\n",
    "    ki = 10 ** float(x[0])\n",
    "    kia = 5.0e3\n",
    "    kib = 5.0e3\n",
    "    kpaa = 10 ** float(x[1])\n",
    "    kpbb = 10 ** float(x[2])\n",
    "    r1 = 10 ** float(x[3])\n",
    "    r2 = 10 ** float(x[4])\n",
    "    kpab = kpaa/r1\n",
    "    kpba = kpbb/r2\n",
    "    ktaa = 10 ** float(x[1] + x[5])\n",
    "    ktbb = 10 ** float(x[2] + x[6])\n",
    "    ktab = (ktaa * ktbb) ** 0.5\n",
    "    ktraa = 2 * kpaa * (10 ** float(x[7]))\n",
    "    ktrab = 2 * kpab * (10 ** float(x[8]))\n",
    "    ktrba = 2 * kpba * (10 ** float(x[9]))\n",
    "    ktrbb = 2 * kpbb * (10 ** float(x[10]))\n",
    "    ratio = 2 * (10 ** float(x[11]))\n",
    "    conc = 10 ** float(x[12])\n",
    "\n",
    "    params = [ki,kia,kib,kpaa,kpab,kpba,kpbb,ktab,ktaa,ktbb,ktraa,ktrab,ktrba,ktrbb,ratio,conc]\n",
    "    Mn, MWD, conv = KMC(params)\n",
    "    return Mn, MWD, conv\n",
    "\n",
    "def batch_evaluate(x_list):\n",
    "    results = np.array([evaluate(x) for x in x_list])\n",
    "    Mn_batch, MWD_batch, conv_batch = torch.tensor(results.T).to(device, dtype)\n",
    "    obj = (1 / MWD_batch).unsqueeze(-1)  # objective: reciprocal of molecular weight distribution (minimization)\n",
    "    con1 = (1000 - Mn_batch).unsqueeze(-1)  # constraint1: molecular weight > 1000\n",
    "    con2 = (0.6 - conv_batch).unsqueeze(-1)  # constraint2: conversion > 0.6\n",
    "    return obj, con1, con2"
   ]
  },
  {
   "cell_type": "markdown",
   "id": "cdbc28d8-adb8-42ab-806d-34e2bc34e69e",
   "metadata": {
    "tags": []
   },
   "source": [
    "## parameters, hyperparameters and functions for BO"
   ]
  },
  {
   "cell_type": "code",
   "execution_count": 3,
   "id": "d39d3a03-c9fd-4189-b2ef-f45786e95df0",
   "metadata": {},
   "outputs": [],
   "source": [
    "# set the value ranges of the parameters\n",
    "bounds = torch.tensor([[-6,-2,-2,-2,-2,1,1,-5,-5,-5,-5,-3,-1], [-4,5,5,2,2,7,7,-2,-1,-1,-2,-1,1]], device=device, dtype=dtype)\n",
    "standard_bounds = torch.zeros(2, 13, device=device, dtype=dtype)\n",
    "standard_bounds[1] = 1"
   ]
  },
  {
   "cell_type": "code",
   "execution_count": 4,
   "id": "d9a25fec-6a96-47d8-b44a-2981be5280b6",
   "metadata": {},
   "outputs": [],
   "source": [
    "# define the batch_size and the hyperparameters\n",
    "DEMO_TEST = True\n",
    "BATCH_SIZE = 5\n",
    "NUM_RESTARTS = 10 if not DEMO_TEST else 2\n",
    "RAW_SAMPLES = 512 if not DEMO_TEST else 32\n",
    "N_BATCH = 200 if not DEMO_TEST else 5\n",
    "MC_SAMPLES = 128 if not DEMO_TEST else 16"
   ]
  },
  {
   "cell_type": "code",
   "execution_count": 5,
   "id": "8d7bb573-198d-450a-8c11-a7263a8c0f9f",
   "metadata": {},
   "outputs": [],
   "source": [
    "# function for establishing/updating GP models\n",
    "def establish_model(train_x, obj, con1, con2):\n",
    "    train_x = normalize(train_x, bounds)\n",
    "    # three GP models for MWD, Mn and conversion\n",
    "    model_obj = SingleTaskGP(train_x, obj, outcome_transform=Standardize(m=1))\n",
    "    model_con1 = SingleTaskGP(train_x, con1, outcome_transform=Standardize(m=1))\n",
    "    model_con2 = SingleTaskGP(train_x, con2, outcome_transform=Standardize(m=1))\n",
    "\n",
    "    model = ModelListGP(model_obj, model_con1, model_con2)\n",
    "    mll = SumMarginalLogLikelihood(model.likelihood, model)\n",
    "    return mll, model"
   ]
  },
  {
   "cell_type": "code",
   "execution_count": 6,
   "id": "a85954bb-7e9a-48f8-a2a4-dda8c17f8882",
   "metadata": {},
   "outputs": [],
   "source": [
    "# acquisition function for proposing new candidates\n",
    "def optimize_acqf_and_get_observation(acq_func):\n",
    "    # optimize\n",
    "    candidates, _ = optimize_acqf(\n",
    "        acq_function=acq_func,\n",
    "        bounds=standard_bounds,\n",
    "        q=BATCH_SIZE,\n",
    "        num_restarts=NUM_RESTARTS,\n",
    "        raw_samples=RAW_SAMPLES,  # used for intialization heuristic\n",
    "        options={\"batch_limit\": 5, \"maxiter\": 200},\n",
    "    )\n",
    "    # observe new values \n",
    "    new_x = unnormalize(candidates.detach(), bounds=bounds)\n",
    "    new_obj, new_con1, new_con2 = batch_evaluate(new_x)\n",
    "    return new_x, new_obj, new_con1, new_con2"
   ]
  },
  {
   "cell_type": "code",
   "execution_count": 7,
   "id": "583272b4-5e36-45ee-a336-d9ba76623b15",
   "metadata": {},
   "outputs": [],
   "source": [
    "# define a feasibility-weighted objective for optimization\n",
    "def obj_callable(Z):\n",
    "    return Z[..., 0]\n",
    "\n",
    "def constraint1_callable(Z):\n",
    "    return Z[..., 1]\n",
    "\n",
    "def constraint2_callable(Z):\n",
    "    return Z[..., 2]\n",
    "\n",
    "constrained_obj = ConstrainedMCObjective(\n",
    "    objective=obj_callable,\n",
    "    constraints=[constraint1_callable, constraint2_callable],\n",
    ")"
   ]
  },
  {
   "cell_type": "markdown",
   "id": "d0810a13-056f-4546-8539-a9c274ad2882",
   "metadata": {},
   "source": [
    "## main program"
   ]
  },
  {
   "cell_type": "code",
   "execution_count": 8,
   "id": "0fc58416-e9fa-4007-b6db-236d23e7c4a6",
   "metadata": {},
   "outputs": [],
   "source": [
    "train_x = draw_sobol_samples(bounds=bounds, n=1, q=28, seed=2023).squeeze(0)\n",
    "train_obj, train_con1, train_con2 = batch_evaluate(train_x)\n",
    "mll, model = establish_model(train_x, train_obj, train_con1, train_con2)"
   ]
  },
  {
   "cell_type": "code",
   "execution_count": 9,
   "id": "70ce2810-ebb3-4dba-86ef-5496fdac29ee",
   "metadata": {},
   "outputs": [
    {
     "name": "stdout",
     "output_type": "stream",
     "text": [
      "iteration 0\n",
      "iteration 1\n",
      "iteration 2\n",
      "iteration 3\n",
      "iteration 4\n"
     ]
    }
   ],
   "source": [
    "# run N_BATCH rounds of BayesOpt after the initial random batch\n",
    "for iteration in range(N_BATCH):\n",
    "\n",
    "    # fit the models\n",
    "    fit_gpytorch_model(mll)\n",
    "\n",
    "    # define the qNEI and qNEI acquisition modules using a QMC sampler\n",
    "    qmc_sampler = SobolQMCNormalSampler(num_samples=MC_SAMPLES)\n",
    "\n",
    "    # for best_f, we use the best observed noisy values as an approximation\n",
    "    qNEI = qNoisyExpectedImprovement(\n",
    "        model=model,\n",
    "        X_baseline=normalize(train_x, bounds),\n",
    "        sampler=qmc_sampler,\n",
    "        objective=constrained_obj,\n",
    "    )\n",
    "\n",
    "    # optimize and get new observation\n",
    "    new_x, new_obj, new_con1, new_con2 = optimize_acqf_and_get_observation(qNEI)\n",
    "\n",
    "    # update training points\n",
    "    train_x = torch.cat([train_x, new_x])\n",
    "    train_obj = torch.cat([train_obj, new_obj])\n",
    "    train_con1 = torch.cat([train_con1, new_con1])\n",
    "    train_con2 = torch.cat([train_con2, new_con2])\n",
    "\n",
    "    # reinitialize the models so they are ready for fitting on next iteration\n",
    "    # use the current state dict to speed up fitting\n",
    "    mll, model = establish_model(train_x, train_obj, train_con1, train_con2)\n",
    "\n",
    "    print('iteration %d' % iteration)"
   ]
  },
  {
   "cell_type": "markdown",
   "id": "149045bf-f611-46c1-b20a-e352ef17d7e2",
   "metadata": {
    "tags": []
   },
   "source": [
    "## save data and model"
   ]
  },
  {
   "cell_type": "code",
   "execution_count": 10,
   "id": "0357b17c-28b2-4090-a059-4aa94f943e22",
   "metadata": {},
   "outputs": [],
   "source": [
    "df = pd.DataFrame(train_x.cpu().detach().numpy())\n",
    "df['obj'] = train_obj.cpu().detach().numpy()\n",
    "df['con1'] = train_con1.cpu().detach().numpy()\n",
    "df['con2'] = train_con2.cpu().detach().numpy()\n",
    "df.to_csv('BO_demo_traindata.csv', index=False)\n",
    "\n",
    "torch.save(model.state_dict(), 'BO_demo_model_params.pth')"
   ]
  },
  {
   "cell_type": "code",
   "execution_count": null,
   "id": "eec46ea0-c46b-4b00-bccc-d8224acf6f74",
   "metadata": {},
   "outputs": [],
   "source": []
  }
 ],
 "metadata": {
  "kernelspec": {
   "display_name": "torch",
   "language": "python",
   "name": "torch"
  },
  "language_info": {
   "codemirror_mode": {
    "name": "ipython",
    "version": 3
   },
   "file_extension": ".py",
   "mimetype": "text/x-python",
   "name": "python",
   "nbconvert_exporter": "python",
   "pygments_lexer": "ipython3",
   "version": "3.11.5"
  }
 },
 "nbformat": 4,
 "nbformat_minor": 5
}
